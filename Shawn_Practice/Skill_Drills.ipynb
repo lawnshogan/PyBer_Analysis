{
 "cells": [
  {
   "cell_type": "code",
   "execution_count": null,
   "id": "9c5f0ea3",
   "metadata": {},
   "outputs": [],
   "source": [
    "# 5.1.4 Skill Drill - Annotate Charts (Pyplot)\n",
    "\n",
    "%matplotlib inline\n",
    "import matplotlib.pyplot as plt\n",
    "\n",
    "x_axis = [\"Jan\", \"Feb\", \"Mar\", \"April\", \"May\", \"June\", \"July\", \"Aug\", \"Sept\", \"Oct\", \"Nov\", \"Dec\"]\n",
    "y_axis = [10.02, 23.24, 39.20, 35.42, 32.34, 27.04, 43.82, 10.56, 11.85, 27.90, 20.71, 20.09]"
   ]
  },
  {
   "cell_type": "code",
   "execution_count": null,
   "metadata": {},
   "outputs": [],
   "source": [
    "plt.plot(x_axis, y_axis, marker=\"D\", color=\"green\", linewidth=2, label='Boston')\n",
    "plt.xlabel(\"Date\")\n",
    "plt.ylabel(\"Fare($)\")\n",
    "plt.ylim(0, 50)\n",
    "plt.title(\"PyBer Fare by Month\")\n",
    "plt.grid()\n",
    "plt.legend([\"Boston\"])"
   ]
  },
  {
   "cell_type": "code",
   "execution_count": 27,
   "id": "68fd984e",
   "metadata": {},
   "outputs": [],
   "source": [
    "# 5.1.4 Skill Drill - Annotate Charts (Object-Oriented)\n",
    "\n",
    "%matplotlib inline\n",
    "import matplotlib.pyplot as plt\n",
    "\n",
    "x_axis = [\"Jan\", \"Feb\", \"Mar\", \"April\", \"May\", \"June\", \"July\", \"Aug\", \"Sept\", \"Oct\", \"Nov\", \"Dec\"]\n",
    "y_axis = [10.02, 23.24, 39.20, 35.42, 32.34, 27.04, 43.82, 10.56, 11.85, 27.90, 20.71, 20.09]"
   ]
  },
  {
   "cell_type": "code",
   "execution_count": null,
   "id": "d301dcb3",
   "metadata": {},
   "outputs": [],
   "source": [
    "ax = plt.axes()\n",
    "ax.plot(x_axis, y_axis, marker=\"+\", color=\"green\", linewidth=2, label='Boston')\n",
    "\n",
    "ax.set_ylim(0, 45)\n",
    "ax.set_title(\"PyBer Fare by Month\")\n",
    "ax.set_xlabel('Date')\n",
    "ax.set_ylabel('Fare ($)')\n",
    "ax.legend()\n",
    "ax.grid()"
   ]
  },
  {
   "cell_type": "code",
   "execution_count": 29,
   "id": "0979c8fb",
   "metadata": {},
   "outputs": [
    {
     "data": {
      "text/plain": [
       "<matplotlib.legend.Legend at 0x213cf4ea7c0>"
      ]
     },
     "execution_count": 29,
     "metadata": {},
     "output_type": "execute_result"
    },
    {
     "data": {
      "image/png": "[encoded data removed]",
      "text/plain": [
       "<Figure size 432x288 with 1 Axes>"
      ]
     },
     "metadata": {
      "needs_background": "light"
     },
     "output_type": "display_data"
    }
   ],
   "source": [
    "# 5.1.5 Skill Drill - Horizontal Bar Graph (Pyplot)\n",
    "plt.barh(x_axis, y_axis, color= \"magenta\", label= \"Boston\")\n",
    "plt.gca().invert_yaxis()\n",
    "plt.title(\"PyBer Fare by Month\")\n",
    "plt.xlabel(\"Fare ($)\")\n",
    "plt.ylabel(\"Date\")\n",
    "plt.legend()"
   ]
  },
  {
   "cell_type": "code",
   "execution_count": 33,
   "id": "aa8b1f92",
   "metadata": {},
   "outputs": [
    {
     "data": {
      "text/plain": [
       "<matplotlib.legend.Legend at 0x213cf761dc0>"
      ]
     },
     "execution_count": 33,
     "metadata": {},
     "output_type": "execute_result"
    },
    {
     "data": {
      "image/png": "[encoded data removed]",
      "text/plain": [
       "<Figure size 432x288 with 1 Axes>"
      ]
     },
     "metadata": {
      "needs_background": "light"
     },
     "output_type": "display_data"
    }
   ],
   "source": [
    "# 5.1.6 Skill Drill - Horizontal Bar Graph (Object-Oriented)\n",
    "fig, ax = plt.subplots()\n",
    "ax.barh(x_axis, y_axis, color= \"cyan\", label= \"Chicago\")\n",
    "plt.gca().invert_yaxis()\n",
    "plt.title(\"PyBer Fare by Month\")\n",
    "plt.xlabel(\"Fare ($)\")\n",
    "plt.ylabel(\"Date\")\n",
    "plt.legend()"
   ]
  },
  {
   "cell_type": "code",
   "execution_count": null,
   "id": "b2a4f0d4",
   "metadata": {},
   "outputs": [],
   "source": [
    "# 5.1.7 Skill Drill - Scatter Plots\n",
    "plt.scatter(x_axis, y_axis)"
   ]
  }
 ],
 "metadata": {
  "interpreter": {
   "hash": "f6ca8f3a96d363a7a64a74fc0088673b3b88a330341d2ecc288b2cb404a24917"
  },
  "kernelspec": {
   "display_name": "Python 3.6.10 ('PythonData')",
   "language": "python",
   "name": "python3"
  },
  "language_info": {
   "codemirror_mode": {
    "name": "ipython",
    "version": 3
   },
   "file_extension": ".py",
   "mimetype": "text/x-python",
   "name": "python",
   "nbconvert_exporter": "python",
   "pygments_lexer": "ipython3",
   "version": "3.9.12"
  }
 },
 "nbformat": 4,
 "nbformat_minor": 5
}
