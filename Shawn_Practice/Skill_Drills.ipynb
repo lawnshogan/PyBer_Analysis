{
 "cells": [
  {
   "cell_type": "code",
   "execution_count": null,
   "id": "9c5f0ea3",
   "metadata": {},
   "outputs": [],
   "source": [
    "# 5.1.4 Skill Drill - Annotate Charts (Pyplot)\n",
    "\n",
    "%matplotlib inline\n",
    "import matplotlib.pyplot as plt\n",
    "\n",
    "x_axis = [\"Jan\", \"Feb\", \"Mar\", \"April\", \"May\", \"June\", \"July\", \"Aug\", \"Sept\", \"Oct\", \"Nov\", \"Dec\"]\n",
    "y_axis = [10.02, 23.24, 39.20, 35.42, 32.34, 27.04, 43.82, 10.56, 11.85, 27.90, 20.71, 20.09]"
   ]
  },
  {
   "cell_type": "code",
   "execution_count": null,
   "metadata": {},
   "outputs": [],
   "source": [
    "plt.plot(x_axis, y_axis, marker=\"D\", color=\"green\", linewidth=2, label='Boston')\n",
    "plt.xlabel(\"Date\")\n",
    "plt.ylabel(\"Fare($)\")\n",
    "plt.ylim(0, 50)\n",
    "plt.title(\"PyBer Fare by Month\")\n",
    "plt.grid()\n",
    "plt.legend([\"Boston\"])"
   ]
  },
  {
   "cell_type": "code",
   "execution_count": null,
   "id": "68fd984e",
   "metadata": {},
   "outputs": [],
   "source": [
    "# 5.1.4 Skill Drill - Annotate Charts (Object-Oriented)\n",
    "\n",
    "%matplotlib inline\n",
    "import matplotlib.pyplot as plt\n",
    "\n",
    "x_axis = [\"Jan\", \"Feb\", \"Mar\", \"April\", \"May\", \"June\", \"July\", \"Aug\", \"Sept\", \"Oct\", \"Nov\", \"Dec\"]\n",
    "y_axis = [10.02, 23.24, 39.20, 35.42, 32.34, 27.04, 43.82, 10.56, 11.85, 27.90, 20.71, 20.09]"
   ]
  },
  {
   "cell_type": "code",
   "execution_count": null,
   "id": "d301dcb3",
   "metadata": {},
   "outputs": [],
   "source": [
    "ax = plt.axes()\n",
    "ax.plot(x_axis, y_axis, marker=\"+\", color=\"green\", linewidth=2, label='Boston')\n",
    "\n",
    "ax.set_ylim(0, 45)\n",
    "ax.set_title(\"PyBer Fare by Month\")\n",
    "ax.set_xlabel('Date')\n",
    "ax.set_ylabel('Fare ($)')\n",
    "ax.legend()\n",
    "ax.grid()"
   ]
  },
  {
   "cell_type": "code",
   "execution_count": null,
   "id": "0979c8fb",
   "metadata": {},
   "outputs": [],
   "source": [
    "# 5.1.5 Skill Drill - Horizontal Bar Graph (Pyplot)\n",
    "plt.barh(x_axis, y_axis, color= \"magenta\", label= \"Boston\")\n",
    "plt.gca().invert_yaxis()\n",
    "plt.title(\"PyBer Fare by Month\")\n",
    "plt.xlabel(\"Fare ($)\")\n",
    "plt.ylabel(\"Date\")\n",
    "plt.legend()"
   ]
  },
  {
   "cell_type": "code",
   "execution_count": null,
   "id": "aa8b1f92",
   "metadata": {},
   "outputs": [],
   "source": [
    "# 5.1.6 Skill Drill - Horizontal Bar Graph (Object-Oriented)\n",
    "fig, ax = plt.subplots()\n",
    "ax.barh(x_axis, y_axis, color= \"cyan\", label= \"Chicago\")\n",
    "plt.gca().invert_yaxis()\n",
    "plt.title(\"PyBer Fare by Month\")\n",
    "plt.xlabel(\"Fare ($)\")\n",
    "plt.ylabel(\"Date\")\n",
    "plt.legend()"
   ]
  },
  {
   "cell_type": "code",
   "execution_count": null,
   "id": "b2a4f0d4",
   "metadata": {},
   "outputs": [],
   "source": [
    "# 5.1.7 Skill Drill - Scatter Plots (Pyplot)\n",
    "plt.scatter(x_axis, y_axis)\n",
    "plt.plot(y_axis, x_axis, 'o', c=\"red\", label=\"Chicago\")\n",
    "plt.gca().invert_yaxis()\n",
    "plt.xlim(0, 50)\n",
    "plt.title(\"PyBer Fare by Month\")\n",
    "plt.xlabel(\"Fare ($)\")\n",
    "plt.ylabel(\"Date\")\n",
    "plt.legend()\n"
   ]
  },
  {
   "cell_type": "code",
   "execution_count": null,
   "id": "f23db494",
   "metadata": {},
   "outputs": [],
   "source": [
    "# 5.1.7 Skill Drill - Bubble Charts (Object-Oriented)\n",
    "# Change the color of the markers to sky blue.\n",
    "# Change the size of the markers to 5 times each data point.\n",
    "# Make the color 20% transparent.\n",
    "# Add a black edge color to the circles.\n",
    "# Make the linewidth of the circles 2 points.\n",
    "# Add a legend for the city of Boston.\n",
    "# Add a title.\n",
    "# Switch the axis so that the Fare data is on the x-axis.\n",
    "# Add a limit for the x-axis data.\n",
    "# Invert the y-axis so that January is at the top.\n",
    "fig, ax = plt.subplots()\n",
    "ax.scatter(y_axis, \n",
    "           x_axis, \n",
    "           fc='#75bbfd', \n",
    "           alpha= 0.2, \n",
    "           edgecolor=\"black\", \n",
    "           linewidth=2, \n",
    "           s = [i * 5 for i in y_axis], \n",
    "           label=\"Boston\")\n",
    "plt.gca().invert_yaxis()\n",
    "plt.xlim(0, 50)\n",
    "plt.title(\"PyBer Fare by Month\")\n",
    "plt.xlabel(\"Fare ($)\")\n",
    "plt.ylabel(\"Date\")\n",
    "plt.legend()"
   ]
  },
  {
   "cell_type": "code",
   "execution_count": null,
   "id": "a902f7b8",
   "metadata": {},
   "outputs": [],
   "source": [
    "# 5.1.8 Skill Drill - Pie Chart (Object-Oriented)\n",
    "# Add a percentage to one decimal place to each wedge of the pie.\n",
    "# Increase the figure size to 8x8.\n",
    "# Explode the two highest percentage months.\n",
    "# Add a shadow.\n",
    "# Add a start angle so that January is at the top.\n",
    "# Reverse the order so that the month order is in a clockwise direction.\n",
    "# Add new colors of your own choosing or use the colors from the previous pie chart.\n",
    "fig, ax = plt.subplots(figsize=(8,8))\n",
    "colors = [\"slateblue\", \"magenta\", \"lightblue\", \"green\", \n",
    "          \"yellowgreen\", \"greenyellow\", \"yellow\", \"orange\", \n",
    "          \"gold\", \"indianred\", \"tomato\", \"mistyrose\"]\n",
    "explode_values = (0, 0, 0.2, 0, 0, 0, 0.2, 0, 0, 0, 0, 0)\n",
    "plt.pie(y_axis,\n",
    "       explode=explode_values,\n",
    "       colors=colors,\n",
    "       shadow=True,\n",
    "       startangle=90,\n",
    "       counterclock=False,\n",
    "       labels=x_axis,\n",
    "       autopct='%.1f%%')\n",
    "\n",
    "plt.show()"
   ]
  },
  {
   "cell_type": "code",
   "execution_count": 70,
   "id": "56ce1e0b",
   "metadata": {},
   "outputs": [],
   "source": [
    "# 5.1.10 Skill Drill - Plot Pandas DataFrame and Series\n",
    "\n",
    "# SEE PyBer_ride_data.ipynb for this solution\n"
   ]
  }
 ],
 "metadata": {
  "interpreter": {
   "hash": "f6ca8f3a96d363a7a64a74fc0088673b3b88a330341d2ecc288b2cb404a24917"
  },
  "kernelspec": {
   "display_name": "Python 3.6.10 ('PythonData')",
   "language": "python",
   "name": "python3"
  },
  "language_info": {
   "codemirror_mode": {
    "name": "ipython",
    "version": 3
   },
   "file_extension": ".py",
   "mimetype": "text/x-python",
   "name": "python",
   "nbconvert_exporter": "python",
   "pygments_lexer": "ipython3",
   "version": "3.9.12"
  }
 },
 "nbformat": 4,
 "nbformat_minor": 5
}
